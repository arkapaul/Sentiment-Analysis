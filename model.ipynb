{
 "cells": [
  {
   "cell_type": "markdown",
   "metadata": {},
   "source": [
    "# Sentimental Analysis"
   ]
  },
  {
   "cell_type": "markdown",
   "metadata": {},
   "source": [
    "We have a dataset of customer feedbacks with various sentiments. We have to build a machine learning classifier which trains on this dataset to analyse the respective sentiments and predict the sentiments of other unlabelled texts."
   ]
  },
  {
   "cell_type": "markdown",
   "metadata": {},
   "source": [
    "## Data Preprocessing\n",
    "\n",
    "First we import the important dependencies required by the task at hand"
   ]
  },
  {
   "cell_type": "code",
   "execution_count": 1,
   "metadata": {},
   "outputs": [],
   "source": [
    "import os\n",
    "import nltk\n",
    "import numpy as np\n",
    "import pandas as pd\n",
    "import matplotlib.pyplot as plt\n",
    "from sklearn.svm import LinearSVC\n",
    "from sklearn.metrics import accuracy_score\n",
    "from sklearn.naive_bayes import MultinomialNB\n",
    "from sklearn.feature_extraction.text import TfidfVectorizer"
   ]
  },
  {
   "cell_type": "markdown",
   "metadata": {},
   "source": [
    "We will be explaining each modules as to the purpose they serve.\n",
    "\n",
    "1. os is used for detecting the data file.\n",
    "2. nltk(Natural Language Toolkit) is used for text preprocessing, i.e. removal of stopwords and punctuations and stemming the texts of words of the same semantics. \n",
    "3. numpy is used for linear algebra and vector arithmetic.\n",
    "4. pandas are used for analysing sequences and for reading and storing data.\n",
    "5. matplotlib is a data visualization module.\n",
    "6. sklearn is a simple machine learning framework with easy to implement functions. We can also use its many predefined functions to preprocess our data. We mainly use them for creating Bag of Words, accuracy measurement of our model and for the Naive Bayes and Support Vector Machine classifier."
   ]
  },
  {
   "cell_type": "markdown",
   "metadata": {},
   "source": [
    "Next we download a corpus of stopwords, punctuations, etc. belonging to nltk"
   ]
  },
  {
   "cell_type": "code",
   "execution_count": 2,
   "metadata": {},
   "outputs": [
    {
     "name": "stdout",
     "output_type": "stream",
     "text": [
      "showing info https://raw.githubusercontent.com/nltk/nltk_data/gh-pages/index.xml\n"
     ]
    },
    {
     "data": {
      "text/plain": [
       "True"
      ]
     },
     "execution_count": 2,
     "metadata": {},
     "output_type": "execute_result"
    }
   ],
   "source": [
    "nltk.download()"
   ]
  },
  {
   "cell_type": "markdown",
   "metadata": {},
   "source": [
    "Next we read our data using pandas."
   ]
  },
  {
   "cell_type": "code",
   "execution_count": 3,
   "metadata": {},
   "outputs": [],
   "source": [
    "dataframe = pd.read_csv(os.path.join('data',os.listdir('data')[0]),sep = '\\t', names = ['id', 'feedback', 'sentiment'])"
   ]
  },
  {
   "cell_type": "markdown",
   "metadata": {},
   "source": [
    "We use the read_csv() function of pandas which is normally used to read from .csv files. But we can easily use it to read simple text files. Our data is actually in the following format \"'customer id'\\t'feedback'\\t'sentiment'\" hence we named the rows in this way. \n",
    "    \n",
    "We can easily show that the data is in this format by simple file io of python"
   ]
  },
  {
   "cell_type": "code",
   "execution_count": 4,
   "metadata": {},
   "outputs": [
    {
     "data": {
      "text/plain": [
       "[b'en-development-0001\\tWakes your brain up!\\tcomment\\n',\n",
       " b'en-development-0002\\tThe location is perfect with Marais being a great area to stay in with restaurants, shops, cafes, bars and the metro all close by.\\tcomment\\n',\n",
       " b'en-development-0003\\tDespite the noise and bustle outside, the rooms are very quiet, and we overlooked Las Ramblas.\\tcomment\\n',\n",
       " b'en-development-0004\\tWe travel often and usually stay at very nice hotels.\\tcomment\\n',\n",
       " b\"en-development-0005\\tThis was so bad experience that i wouln't stay again in this hotel.\\tcomplaint\\n\"]"
      ]
     },
     "execution_count": 4,
     "metadata": {},
     "output_type": "execute_result"
    }
   ],
   "source": [
    "with open(os.path.join('data',os.listdir('data')[0]),'rb') as data_file:\n",
    "    l = data_file.readlines()\n",
    "\n",
    "l[0:5]"
   ]
  },
  {
   "cell_type": "markdown",
   "metadata": {},
   "source": [
    "We can visualize the dataframe we created from our dataset. Pandas automatically analyzes and structures our data in a tabular form."
   ]
  },
  {
   "cell_type": "code",
   "execution_count": 5,
   "metadata": {},
   "outputs": [
    {
     "data": {
      "text/html": [
       "<div>\n",
       "<style scoped>\n",
       "    .dataframe tbody tr th:only-of-type {\n",
       "        vertical-align: middle;\n",
       "    }\n",
       "\n",
       "    .dataframe tbody tr th {\n",
       "        vertical-align: top;\n",
       "    }\n",
       "\n",
       "    .dataframe thead th {\n",
       "        text-align: right;\n",
       "    }\n",
       "</style>\n",
       "<table border=\"1\" class=\"dataframe\">\n",
       "  <thead>\n",
       "    <tr style=\"text-align: right;\">\n",
       "      <th></th>\n",
       "      <th>id</th>\n",
       "      <th>feedback</th>\n",
       "      <th>sentiment</th>\n",
       "    </tr>\n",
       "  </thead>\n",
       "  <tbody>\n",
       "    <tr>\n",
       "      <th>0</th>\n",
       "      <td>en-development-0001</td>\n",
       "      <td>Wakes your brain up!</td>\n",
       "      <td>comment</td>\n",
       "    </tr>\n",
       "    <tr>\n",
       "      <th>1</th>\n",
       "      <td>en-development-0002</td>\n",
       "      <td>The location is perfect with Marais being a gr...</td>\n",
       "      <td>comment</td>\n",
       "    </tr>\n",
       "    <tr>\n",
       "      <th>2</th>\n",
       "      <td>en-development-0003</td>\n",
       "      <td>Despite the noise and bustle outside, the room...</td>\n",
       "      <td>comment</td>\n",
       "    </tr>\n",
       "    <tr>\n",
       "      <th>3</th>\n",
       "      <td>en-development-0004</td>\n",
       "      <td>We travel often and usually stay at very nice ...</td>\n",
       "      <td>comment</td>\n",
       "    </tr>\n",
       "    <tr>\n",
       "      <th>4</th>\n",
       "      <td>en-development-0005</td>\n",
       "      <td>This was so bad experience that i wouln't stay...</td>\n",
       "      <td>complaint</td>\n",
       "    </tr>\n",
       "  </tbody>\n",
       "</table>\n",
       "</div>"
      ],
      "text/plain": [
       "                    id                                           feedback  \\\n",
       "0  en-development-0001                               Wakes your brain up!   \n",
       "1  en-development-0002  The location is perfect with Marais being a gr...   \n",
       "2  en-development-0003  Despite the noise and bustle outside, the room...   \n",
       "3  en-development-0004  We travel often and usually stay at very nice ...   \n",
       "4  en-development-0005  This was so bad experience that i wouln't stay...   \n",
       "\n",
       "   sentiment  \n",
       "0    comment  \n",
       "1    comment  \n",
       "2    comment  \n",
       "3    comment  \n",
       "4  complaint  "
      ]
     },
     "execution_count": 5,
     "metadata": {},
     "output_type": "execute_result"
    }
   ],
   "source": [
    "dataframe.head()"
   ]
  },
  {
   "cell_type": "markdown",
   "metadata": {},
   "source": [
    "We are going to define a sentiment to value index to mathematically approach the problem"
   ]
  },
  {
   "cell_type": "code",
   "execution_count": 6,
   "metadata": {},
   "outputs": [],
   "source": [
    "sentiment_word_to_value = {'comment' : 1,\n",
    "                           'complaint' : 2,\n",
    "                           'meaningless' : 3,\n",
    "                           'request' : 4,\n",
    "                           'bug' : 5,\n",
    "                           'comment, complaint' : 6,\n",
    "                           'complaint, bug' : 7,\n",
    "                           'request, complaint' : 8,\n",
    "                           'complaint, request' : 8,\n",
    "                           'bug, complaint' : 7,\n",
    "                           'undefined' : 0}"
   ]
  },
  {
   "cell_type": "markdown",
   "metadata": {},
   "source": [
    "We now rid the data of stopwords and punctuations and then stem the data. But before all of them we convert the data to lowercase as that may interfere with the removal of stopwords"
   ]
  },
  {
   "cell_type": "code",
   "execution_count": 7,
   "metadata": {},
   "outputs": [],
   "source": [
    "list_of_feedbacks = list(dataframe.feedback.values)\n",
    "#Tokenization of the data\n",
    "tokenized_data = [nltk.tokenize.word_tokenize(sents) for sents in list_of_feedbacks]\n",
    "#convertion to lowercase\n",
    "lowercase_tokenied_data = []\n",
    "for e in tokenized_data:\n",
    "    temp = [words.lower() for words in e]\n",
    "    lowercase_tokenied_data.append(temp)\n",
    "#Removal of punctuations\n",
    "corpus_without_punctuations = []\n",
    "for e in lowercase_tokenied_data:\n",
    "    temp = [words for words in e if words.isalpha()]\n",
    "    corpus_without_punctuations.append(temp)\n",
    "#Removal of stopwords\n",
    "corpus_without_puncts_stopwords = []\n",
    "stopwords_english = set(nltk.corpus.stopwords.words('english'))\n",
    "for e in corpus_without_punctuations:\n",
    "    temp = [words for words in e if not words in stopwords_english]\n",
    "    corpus_without_puncts_stopwords.append(temp)\n",
    "#Stemming the tokens\n",
    "clean_corpus = []\n",
    "stemmer = nltk.stem.SnowballStemmer('english')\n",
    "for e in corpus_without_puncts_stopwords:\n",
    "    temp = [stemmer.stem(words) for words in e]\n",
    "    clean_corpus.append(temp)\n",
    "corpus_of_data = [\" \".join(sents) for sents in clean_corpus]"
   ]
  },
  {
   "cell_type": "markdown",
   "metadata": {},
   "source": [
    "We add the clean_corpus back to the feedback column. The data is now ready for being converte to the Bag of Words(BoW) model."
   ]
  },
  {
   "cell_type": "code",
   "execution_count": 8,
   "metadata": {},
   "outputs": [
    {
     "data": {
      "text/html": [
       "<div>\n",
       "<style scoped>\n",
       "    .dataframe tbody tr th:only-of-type {\n",
       "        vertical-align: middle;\n",
       "    }\n",
       "\n",
       "    .dataframe tbody tr th {\n",
       "        vertical-align: top;\n",
       "    }\n",
       "\n",
       "    .dataframe thead th {\n",
       "        text-align: right;\n",
       "    }\n",
       "</style>\n",
       "<table border=\"1\" class=\"dataframe\">\n",
       "  <thead>\n",
       "    <tr style=\"text-align: right;\">\n",
       "      <th></th>\n",
       "      <th>id</th>\n",
       "      <th>feedback</th>\n",
       "      <th>sentiment</th>\n",
       "    </tr>\n",
       "  </thead>\n",
       "  <tbody>\n",
       "    <tr>\n",
       "      <th>0</th>\n",
       "      <td>en-development-0001</td>\n",
       "      <td>wake brain</td>\n",
       "      <td>comment</td>\n",
       "    </tr>\n",
       "    <tr>\n",
       "      <th>1</th>\n",
       "      <td>en-development-0002</td>\n",
       "      <td>locat perfect marai great area stay restaur sh...</td>\n",
       "      <td>comment</td>\n",
       "    </tr>\n",
       "    <tr>\n",
       "      <th>2</th>\n",
       "      <td>en-development-0003</td>\n",
       "      <td>despit nois bustl outsid room quiet overlook l...</td>\n",
       "      <td>comment</td>\n",
       "    </tr>\n",
       "    <tr>\n",
       "      <th>3</th>\n",
       "      <td>en-development-0004</td>\n",
       "      <td>travel often usual stay nice hotel</td>\n",
       "      <td>comment</td>\n",
       "    </tr>\n",
       "    <tr>\n",
       "      <th>4</th>\n",
       "      <td>en-development-0005</td>\n",
       "      <td>bad experi woul stay hotel</td>\n",
       "      <td>complaint</td>\n",
       "    </tr>\n",
       "  </tbody>\n",
       "</table>\n",
       "</div>"
      ],
      "text/plain": [
       "                    id                                           feedback  \\\n",
       "0  en-development-0001                                         wake brain   \n",
       "1  en-development-0002  locat perfect marai great area stay restaur sh...   \n",
       "2  en-development-0003  despit nois bustl outsid room quiet overlook l...   \n",
       "3  en-development-0004                 travel often usual stay nice hotel   \n",
       "4  en-development-0005                         bad experi woul stay hotel   \n",
       "\n",
       "   sentiment  \n",
       "0    comment  \n",
       "1    comment  \n",
       "2    comment  \n",
       "3    comment  \n",
       "4  complaint  "
      ]
     },
     "execution_count": 8,
     "metadata": {},
     "output_type": "execute_result"
    }
   ],
   "source": [
    "dataframe.feedback = corpus_of_data\n",
    "dataframe.head()"
   ]
  },
  {
   "cell_type": "markdown",
   "metadata": {},
   "source": [
    "We now convert the feedback data into the BoW model. Also we map the sentiment with the respective value."
   ]
  },
  {
   "cell_type": "code",
   "execution_count": 9,
   "metadata": {},
   "outputs": [],
   "source": [
    "bow = TfidfVectorizer()\n",
    "corpus_of_data = list(dataframe.feedback.values)\n",
    "features = bow.fit_transform(corpus_of_data)\n",
    "#We make a copy of the dataframe to maintained the integrity of the initial one\n",
    "dataframe_copy = dataframe.copy()\n",
    "#We map the sentiment to the values we created for each of them earlier\n",
    "for key,value in sentiment_word_to_value.items():\n",
    "    dataframe_copy.sentiment[dataframe.sentiment == key] = value\n",
    "labels = list(dataframe_copy.sentiment.values)"
   ]
  },
  {
   "cell_type": "markdown",
   "metadata": {},
   "source": [
    "## Visualizing the data"
   ]
  },
  {
   "cell_type": "markdown",
   "metadata": {},
   "source": [
    "We use matplotlib to visualize the data in order to construct the training and testing set."
   ]
  },
  {
   "cell_type": "code",
   "execution_count": 10,
   "metadata": {},
   "outputs": [
    {
     "data": {
      "text/plain": [
       "Text(0,0.5,'Sentiments')"
      ]
     },
     "execution_count": 10,
     "metadata": {},
     "output_type": "execute_result"
    },
    {
     "data": {
      "image/png": "[encoded data removed]",
      "text/plain": [
       "<matplotlib.figure.Figure at 0x12698840630>"
      ]
     },
     "metadata": {},
     "output_type": "display_data"
    }
   ],
   "source": [
    "plt.scatter(range(1,501), labels, c = np.random.randn(500))\n",
    "plt.xlabel('Customers')\n",
    "plt.ylabel('Sentiments')"
   ]
  },
  {
   "cell_type": "markdown",
   "metadata": {},
   "source": [
    "## Training"
   ]
  },
  {
   "cell_type": "markdown",
   "metadata": {},
   "source": [
    "We have our features and labels. We now divide them into training and testing phases.\n",
    "\n",
    "We do this by keeping 80% of our data for training the model. The remaining 20% of the data is used to test our model's accuracy"
   ]
  },
  {
   "cell_type": "code",
   "execution_count": 11,
   "metadata": {},
   "outputs": [],
   "source": [
    "training_index = int(0.8 * 500)\n",
    "x_train, y_train = features[-training_index:], labels[-training_index:]\n",
    "x_test, y_test = features[:-training_index], labels[:-training_index]"
   ]
  },
  {
   "cell_type": "markdown",
   "metadata": {},
   "source": [
    "We now create the classifier. We use the Multinomial Naive Bayes classifier because we have more than 1 class of sentiments."
   ]
  },
  {
   "cell_type": "code",
   "execution_count": 12,
   "metadata": {},
   "outputs": [],
   "source": [
    "nb_clf = MultinomialNB(alpha = 1)\n",
    "svm_clf = LinearSVC()"
   ]
  },
  {
   "cell_type": "markdown",
   "metadata": {},
   "source": [
    "We now fit our features with the labels using this classifier."
   ]
  },
  {
   "cell_type": "code",
   "execution_count": 13,
   "metadata": {},
   "outputs": [
    {
     "data": {
      "text/plain": [
       "LinearSVC(C=1.0, class_weight=None, dual=True, fit_intercept=True,\n",
       "     intercept_scaling=1, loss='squared_hinge', max_iter=1000,\n",
       "     multi_class='ovr', penalty='l2', random_state=None, tol=0.0001,\n",
       "     verbose=0)"
      ]
     },
     "execution_count": 13,
     "metadata": {},
     "output_type": "execute_result"
    }
   ],
   "source": [
    "nb_clf.fit(x_train, y_train)\n",
    "svm_clf.fit(x_train, y_train)"
   ]
  },
  {
   "cell_type": "markdown",
   "metadata": {},
   "source": [
    "## Prediction and Accuracy"
   ]
  },
  {
   "cell_type": "markdown",
   "metadata": {},
   "source": [
    "Now we can calculate the accuracy of our model from the validation set"
   ]
  },
  {
   "cell_type": "code",
   "execution_count": 14,
   "metadata": {},
   "outputs": [],
   "source": [
    "pred = nb_clf.predict(x_test)\n",
    "svm_pred = svm_clf.predict(x_test)"
   ]
  },
  {
   "cell_type": "code",
   "execution_count": 15,
   "metadata": {},
   "outputs": [
    {
     "name": "stdout",
     "output_type": "stream",
     "text": [
      "Naive Bayes accuracy: 0.59\n",
      "Support Vector Machine accuracy: 0.62\n"
     ]
    }
   ],
   "source": [
    "print('Naive Bayes accuracy:',accuracy_score(y_test, pred))\n",
    "print('Support Vector Machine accuracy:',accuracy_score(y_test, svm_pred))"
   ]
  },
  {
   "cell_type": "markdown",
   "metadata": {},
   "source": [
    "## Discussions"
   ]
  },
  {
   "cell_type": "markdown",
   "metadata": {},
   "source": [
    "We have analysed and visualized the dataset to see that the data in the begining are mostly containing a single class of sentiment with slight variations. So we took the data from the end as our training set to introduce variations to better train the model. \n",
    "\n",
    "Our Multiclass Naive Bayes classifier achieved an accuracy of 59%. The accuracy on the training data was 69.75%. If we trained on the whole dataset the validation set gives an accuracy of 78%. \n",
    "\n",
    "The Linear Support Vector Machine achieved an accuracy score of 62%. The accuracy on the training data was 98.75%. While training on the whole dataset produced a validation set accuracy of 99%.\n",
    "\n",
    "The accuracy can be improved with more data and increased variation among them. \n",
    "\n",
    "The Linear SVM proves to be a better classifier due to it's one vs all strategy for sentiment analysis. \n",
    "\n",
    "We used the Tf-Idf approach as they give an enhanced semantic to the corpus. The accuracy can be improved by increasing variation in the dataset and increasing the number of data available. "
   ]
  },
  {
   "cell_type": "markdown",
   "metadata": {},
   "source": [
    "## Team Members\n",
    "\n",
    "1. Archisman Ghosh (Class roll: 12)\n",
    "2. Arkadyuti Paul (Class roll: 14)\n",
    "3. Debajyoti Chakraborty (Class roll: 26)\n",
    "4. Debanjan Mondal (Class roll: 28)\n",
    "5. Jeet Dutta (Class roll: 35)"
   ]
  },
  {
   "cell_type": "code",
   "execution_count": null,
   "metadata": {},
   "outputs": [],
   "source": []
  }
 ],
 "metadata": {
  "kernelspec": {
   "display_name": "Python 3",
   "language": "python",
   "name": "python3"
  },
  "language_info": {
   "codemirror_mode": {
    "name": "ipython",
    "version": 3
   },
   "file_extension": ".py",
   "mimetype": "text/x-python",
   "name": "python",
   "nbconvert_exporter": "python",
   "pygments_lexer": "ipython3",
   "version": "3.6.4"
  }
 },
 "nbformat": 4,
 "nbformat_minor": 2
}
